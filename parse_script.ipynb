{
  "nbformat": 4,
  "nbformat_minor": 0,
  "metadata": {
    "colab": {
      "name": "parse_script.ipynb",
      "provenance": [],
      "authorship_tag": "ABX9TyMHf8By1T6AtI4yipkZIMqo",
      "include_colab_link": true
    },
    "kernelspec": {
      "name": "python3",
      "display_name": "Python 3"
    },
    "language_info": {
      "name": "python"
    }
  },
  "cells": [
    {
      "cell_type": "markdown",
      "metadata": {
        "id": "view-in-github",
        "colab_type": "text"
      },
      "source": [
        "<a href=\"https://colab.research.google.com/github/hilfiger1/ChattingWithChandler/blob/main/parse_script.ipynb\" target=\"_parent\"><img src=\"https://colab.research.google.com/assets/colab-badge.svg\" alt=\"Open In Colab\"/></a>"
      ]
    },
    {
      "cell_type": "code",
      "metadata": {
        "colab": {
          "base_uri": "https://localhost:8080/"
        },
        "id": "f5FB_yeXGDJE",
        "outputId": "53c54a0f-0b01-4af9-f718-7bf87e8efd1e"
      },
      "source": [
        "from google.colab import drive\n",
        "drive.mount('/content/drive/')"
      ],
      "execution_count": 55,
      "outputs": [
        {
          "output_type": "stream",
          "text": [
            "Drive already mounted at /content/drive/; to attempt to forcibly remount, call drive.mount(\"/content/drive/\", force_remount=True).\n"
          ],
          "name": "stdout"
        }
      ]
    },
    {
      "cell_type": "code",
      "metadata": {
        "id": "QzvKmZuLGfr5"
      },
      "source": [
        "import os\n",
        "os.chdir('/content/drive/My Drive')"
      ],
      "execution_count": 56,
      "outputs": []
    },
    {
      "cell_type": "code",
      "metadata": {
        "colab": {
          "base_uri": "https://localhost:8080/"
        },
        "id": "BVwkfe3GGuKc",
        "outputId": "8f3c834b-9d91-4946-a988-b658d8055975"
      },
      "source": [
        "!ls"
      ],
      "execution_count": 57,
      "outputs": [
        {
          "output_type": "stream",
          "text": [
            " 잠신중학교\n",
            "'1984 Writing Assignment 1 - Jinwoo Park.gdoc'\n",
            "'1B Preparation.gdoc'\n",
            "'1C Co-op Prep.gdoc'\n",
            "\"Big Brother's Role in Oceania - Jinwoo Park.gdoc\"\n",
            "'Capacitive Motion Sensor - Jinwoo Park.gslides'\n",
            " Career-Curriculum-Summative-Document.docx\n",
            "'Copy of ECE 106 LAB 2 - Jinwoo Park.gdoc'\n",
            "'Copy of The Waterloo Freshman Guide .gdoc'\n",
            "'Cover Letter - Jinwoo Park.gdoc'\n",
            "'CS138 FINAL.gdoc'\n",
            "'CS50 Useful Format Codes.gdoc'\n",
            "'CS50 Useful Source Codes.gdoc'\n",
            "'ECE 106 Design Project SCRIPT - Jinwoo Park.gdoc'\n",
            "'ECE 106 LAB 1 - Jinwoo Park.gdoc'\n",
            "'ECE 106 LAB 1 - Jinwoo Park - Line chart 1.gsheet'\n",
            "'ECE 106 LAB 1 - Jinwoo Park - Line chart 2.gsheet'\n",
            "'ECE 106 LAB 2 - Jinwoo Park.gdoc'\n",
            "'ECE 106 LAB 2 - Jinwoo Park - Line chart 1 (1).gsheet'\n",
            "'ECE 106 LAB 2 - Jinwoo Park - Line chart 1.gsheet'\n",
            "'ECE 106 LAB 3 - Jinwoo Park.gdoc'\n",
            "'ECE 106 LAB 3 - Jinwoo Park - Line chart 1.gsheet'\n",
            "'ECE 124 LAB 2 REPORT.gslides'\n",
            "'ECE 124 LAB 3 REPORT.gslides'\n",
            "'ECE 124 LAB 4 REPORT.gslides'\n",
            "'English 11 Final - Jinwoo Park.gdoc'\n",
            "'Frankenstein’s Hamartia.gdoc'\n",
            "'FriendsTheBlackout (1).gdoc'\n",
            " FriendsTheBlackout.txt\n",
            " 통지서.gdoc\n",
            "'워털루공대의 모든것..gdoc'\n",
            "'Hallway Hello Activity - Jinwoo Park.gdoc'\n",
            "\"Holden's Psychological Problems - Jinwoo Park.gdoc\"\n",
            "'IAN HW'\n",
            " IMG_3642.mov\n",
            " IMG_3933.MOV\n",
            " IMG_3969.MOV\n",
            "'iSpotEmotions OpenCV Video - Jinwoo Park'\n",
            "'Jinwoo Park - Personal Response to \"This Lab Will Clone Your Pet for $50K\".gdoc'\n",
            " libphp7.so\n",
            "'MATH 119 WA00.gdoc'\n",
            "'Microsoft Azure Final Project.gslides'\n",
            "'Murder by Montresor - Jinwoo Park.gdoc'\n",
            "'Originals - Adam Grant.gdoc'\n",
            " parse_script.ipynb\n",
            "'Psychological Pressure Leading to False Confessions - Jinwoo Park.gdoc'\n",
            "'(RE) Big Brother'\\''s Role in Oceania - Jinwoo Park.gdoc'\n",
            " Scan_0015.gdoc\n",
            " Scan_0015.pdf\n",
            " Screencastify\n",
            "'SE 101 Mid Term Reflection - Jinwoo Park.gdoc'\n",
            "'SE101 Project Demo.gdoc'\n",
            " Songs\n",
            " TheBlackout.gdoc\n",
            " TheBlackout.txt.rtf\n",
            "'University Application Essay.gdoc'\n",
            "'University of Waterloo CS COOP vs SE.gdoc'\n",
            "'Untitled document (1).gdoc'\n",
            "'Untitled document (2).gdoc'\n",
            "'Untitled document (3).gdoc'\n",
            "'Untitled document (4).gdoc'\n",
            "'Untitled document.gdoc'\n",
            "'UWaterloo Engineering Interview Prep.gdoc'\n",
            "\"victor's dilemma screenplay.gdoc\"\n",
            "'VKLS Registration 2018_19(teacher).gdoc'\n"
          ],
          "name": "stdout"
        }
      ]
    },
    {
      "cell_type": "code",
      "metadata": {
        "id": "KAt2HLcIG5yi"
      },
      "source": [
        "import re\n",
        "import pandas as pd"
      ],
      "execution_count": 58,
      "outputs": []
    },
    {
      "cell_type": "code",
      "metadata": {
        "id": "yQpt8-ftHA1f"
      },
      "source": [
        "pattern = r'([a-zA-Z\\s]+):(.+)'"
      ],
      "execution_count": 59,
      "outputs": []
    },
    {
      "cell_type": "code",
      "metadata": {
        "id": "sejlpjwoHp13"
      },
      "source": [
        "data = {\n",
        "    'name': [],\n",
        "    'line': []\n",
        "}"
      ],
      "execution_count": 60,
      "outputs": []
    },
    {
      "cell_type": "code",
      "metadata": {
        "id": "jatpphgqIMXm"
      },
      "source": [
        "with open('TheBlackout.txt.rtf', 'rt') as file:\n",
        "  for line in file.readlines():\n",
        "    match = re.findall(pattern, line)\n",
        "    if match:\n",
        "      name, line = match[0]\n",
        "      data['name'].append(name)\n",
        "      data['line'].append(line)"
      ],
      "execution_count": 64,
      "outputs": []
    },
    {
      "cell_type": "code",
      "metadata": {
        "id": "p3WqPbhxI3Gn"
      },
      "source": [
        "df = pd.DataFrame(data)"
      ],
      "execution_count": 65,
      "outputs": []
    },
    {
      "cell_type": "code",
      "metadata": {
        "colab": {
          "base_uri": "https://localhost:8080/",
          "height": 204
        },
        "id": "cluc_gr4I7Zx",
        "outputId": "8a9cc423-f9ff-455c-fd67-76d174fb9fd5"
      },
      "source": [
        "df.head()"
      ],
      "execution_count": 66,
      "outputs": [
        {
          "output_type": "execute_result",
          "data": {
            "text/html": [
              "<div>\n",
              "<style scoped>\n",
              "    .dataframe tbody tr th:only-of-type {\n",
              "        vertical-align: middle;\n",
              "    }\n",
              "\n",
              "    .dataframe tbody tr th {\n",
              "        vertical-align: top;\n",
              "    }\n",
              "\n",
              "    .dataframe thead th {\n",
              "        text-align: right;\n",
              "    }\n",
              "</style>\n",
              "<table border=\"1\" class=\"dataframe\">\n",
              "  <thead>\n",
              "    <tr style=\"text-align: right;\">\n",
              "      <th></th>\n",
              "      <th>name</th>\n",
              "      <th>line</th>\n",
              "    </tr>\n",
              "  </thead>\n",
              "  <tbody>\n",
              "    <tr>\n",
              "      <th>0</th>\n",
              "      <td>Rachel</td>\n",
              "      <td>Everybody? Shh, shhh. Uhhh... Central Perk is...</td>\n",
              "    </tr>\n",
              "    <tr>\n",
              "      <th>1</th>\n",
              "      <td>Phoebe</td>\n",
              "      <td>Hi. Um, I want to start with a song thats abo...</td>\n",
              "    </tr>\n",
              "    <tr>\n",
              "      <th>2</th>\n",
              "      <td>Chandler</td>\n",
              "      <td>Oh, great. This is just...</td>\n",
              "    </tr>\n",
              "    <tr>\n",
              "      <th>3</th>\n",
              "      <td>Rachel</td>\n",
              "      <td>Wow, this is so cool, you guys. The entire ci...</td>\n",
              "    </tr>\n",
              "    <tr>\n",
              "      <th>4</th>\n",
              "      <td>Monica</td>\n",
              "      <td>Mom says it's all of Manhattan, parts of Broo...</td>\n",
              "    </tr>\n",
              "  </tbody>\n",
              "</table>\n",
              "</div>"
            ],
            "text/plain": [
              "        name                                               line\n",
              "0     Rachel   Everybody? Shh, shhh. Uhhh... Central Perk is...\n",
              "1     Phoebe   Hi. Um, I want to start with a song thats abo...\n",
              "2   Chandler                         Oh, great. This is just...\n",
              "3     Rachel   Wow, this is so cool, you guys. The entire ci...\n",
              "4     Monica   Mom says it's all of Manhattan, parts of Broo..."
            ]
          },
          "metadata": {},
          "execution_count": 66
        }
      ]
    },
    {
      "cell_type": "code",
      "metadata": {
        "colab": {
          "base_uri": "https://localhost:8080/"
        },
        "id": "4hkkxDzKNpRv",
        "outputId": "574b3f9e-cba3-46bd-828d-56949146b460"
      },
      "source": [
        "sum(df['name'] == ' Chandler')"
      ],
      "execution_count": 70,
      "outputs": [
        {
          "output_type": "execute_result",
          "data": {
            "text/plain": [
              "25"
            ]
          },
          "metadata": {},
          "execution_count": 70
        }
      ]
    },
    {
      "cell_type": "code",
      "metadata": {
        "colab": {
          "base_uri": "https://localhost:8080/"
        },
        "id": "8QMIMwtdOWae",
        "outputId": "1ee9d9da-eeac-47b2-b945-80e68885902c"
      },
      "source": [
        "len(df)"
      ],
      "execution_count": 71,
      "outputs": [
        {
          "output_type": "execute_result",
          "data": {
            "text/plain": [
              "227"
            ]
          },
          "metadata": {},
          "execution_count": 71
        }
      ]
    },
    {
      "cell_type": "code",
      "metadata": {
        "id": "IqXo1VZ0OeBh"
      },
      "source": [
        "df.to_csv('TheBlackout.csv', index=False)"
      ],
      "execution_count": 72,
      "outputs": []
    }
  ]
}